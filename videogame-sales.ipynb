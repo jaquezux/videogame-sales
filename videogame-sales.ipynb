{
 "cells": [
  {
   "cell_type": "markdown",
   "id": "ad62a224",
   "metadata": {
    "papermill": {
     "duration": 0.010542,
     "end_time": "2023-09-02T19:39:51.645839",
     "exception": false,
     "start_time": "2023-09-02T19:39:51.635297",
     "status": "completed"
    },
    "tags": []
   },
   "source": [
    "<h1 style=\"color:navy;text-align:center;\">Jogos do gênero Shooter mais vendidos para PlayStation entre 2010 e 2016</h1>"
   ]
  },
  {
   "cell_type": "markdown",
   "id": "4ee34b78",
   "metadata": {
    "papermill": {
     "duration": 0.009419,
     "end_time": "2023-09-02T19:39:51.665113",
     "exception": false,
     "start_time": "2023-09-02T19:39:51.655694",
     "status": "completed"
    },
    "tags": []
   },
   "source": [
    "Neste notebook, vamos utilizar uma base de dados de venda de Video Games para identificar quais foram os jogos estilo shooter mais vendidos entre os anos de 2010 e 2016 para a plataforma PlayStation.\n",
    "\n",
    "Antes de tudo, vamos entender nosso dataset:"
   ]
  },
  {
   "cell_type": "markdown",
   "id": "58d6079a",
   "metadata": {
    "papermill": {
     "duration": 0.009572,
     "end_time": "2023-09-02T19:39:51.684261",
     "exception": false,
     "start_time": "2023-09-02T19:39:51.674689",
     "status": "completed"
    },
    "tags": []
   },
   "source": [
    "## 1. Lendo o arquivo"
   ]
  },
  {
   "cell_type": "code",
   "execution_count": 1,
   "id": "2e99daf5",
   "metadata": {
    "_cell_guid": "b1076dfc-b9ad-4769-8c92-a6c4dae69d19",
    "_uuid": "8f2839f25d086af736a60e9eeb907d3b93b6e0e5",
    "execution": {
     "iopub.execute_input": "2023-09-02T19:39:51.705216Z",
     "iopub.status.busy": "2023-09-02T19:39:51.704843Z",
     "iopub.status.idle": "2023-09-02T19:39:51.799614Z",
     "shell.execute_reply": "2023-09-02T19:39:51.798210Z"
    },
    "jupyter": {
     "source_hidden": true
    },
    "papermill": {
     "duration": 0.108958,
     "end_time": "2023-09-02T19:39:51.802796",
     "exception": false,
     "start_time": "2023-09-02T19:39:51.693838",
     "status": "completed"
    },
    "tags": []
   },
   "outputs": [
    {
     "name": "stdout",
     "output_type": "stream",
     "text": [
      "/kaggle/input/videogamesales/vgsales.csv\n"
     ]
    },
    {
     "data": {
      "text/plain": [
       "(16598, 11)"
      ]
     },
     "execution_count": 1,
     "metadata": {},
     "output_type": "execute_result"
    }
   ],
   "source": [
    "import numpy as np\n",
    "import pandas as pd\n",
    "import re\n",
    "import matplotlib.pyplot as plt\n",
    "\n",
    "import os\n",
    "for dirname, _, filenames in os.walk('/kaggle/input'):\n",
    "    for filename in filenames:\n",
    "        print(os.path.join(dirname, filename))\n",
    "\n",
    "# Lendo o arquivo .csv\n",
    "dataset = pd.read_csv (\"/kaggle/input/videogamesales/vgsales.csv\")\n",
    "dataset.shape\n"
   ]
  },
  {
   "cell_type": "markdown",
   "id": "b41940bb",
   "metadata": {
    "papermill": {
     "duration": 0.009701,
     "end_time": "2023-09-02T19:39:51.822774",
     "exception": false,
     "start_time": "2023-09-02T19:39:51.813073",
     "status": "completed"
    },
    "tags": []
   },
   "source": [
    "Nossa base de dados possui 16.598 linhas e 11 colunas."
   ]
  },
  {
   "cell_type": "markdown",
   "id": "1bf97d3a",
   "metadata": {
    "papermill": {
     "duration": 0.00968,
     "end_time": "2023-09-02T19:39:51.843678",
     "exception": false,
     "start_time": "2023-09-02T19:39:51.833998",
     "status": "completed"
    },
    "tags": []
   },
   "source": [
    "Abaixo, estão as informações presentes em cada coluna:\n",
    "* **Rank**: Ranking de vendas no geral.\n",
    "* **Name**: Nome do jogo.\n",
    "* **Platform**: Plataforma de lançamento.\n",
    "* **Year**: Ano de lançamento.\n",
    "* **Genre**: Gênero do jogo.\n",
    "* **Publisher**: Empresa que publicou o jogo.\n",
    "* **NA_Sales**: Vendas na América do Norte (em milhões).\n",
    "* **EU_Sales**: Vendas na Europa (em milhões).\n",
    "* **JP_Sales**: Vendas no Japão (em milhões).\n",
    "* **Other_Sales**: Vendas em outras regiões que não América do Norte, Europa e Japão.\n",
    "* **Global_Sales**: Total de vendas globais (em milhões)."
   ]
  },
  {
   "cell_type": "code",
   "execution_count": 2,
   "id": "2cc64f54",
   "metadata": {
    "execution": {
     "iopub.execute_input": "2023-09-02T19:39:51.865451Z",
     "iopub.status.busy": "2023-09-02T19:39:51.865068Z",
     "iopub.status.idle": "2023-09-02T19:39:51.920049Z",
     "shell.execute_reply": "2023-09-02T19:39:51.918859Z"
    },
    "jupyter": {
     "source_hidden": true
    },
    "papermill": {
     "duration": 0.069039,
     "end_time": "2023-09-02T19:39:51.922692",
     "exception": false,
     "start_time": "2023-09-02T19:39:51.853653",
     "status": "completed"
    },
    "tags": []
   },
   "outputs": [
    {
     "name": "stdout",
     "output_type": "stream",
     "text": [
      "<class 'pandas.core.frame.DataFrame'>\n",
      "RangeIndex: 16598 entries, 0 to 16597\n",
      "Data columns (total 11 columns):\n",
      " #   Column        Non-Null Count  Dtype  \n",
      "---  ------        --------------  -----  \n",
      " 0   Rank          16598 non-null  int64  \n",
      " 1   Name          16598 non-null  object \n",
      " 2   Platform      16598 non-null  object \n",
      " 3   Year          16327 non-null  float64\n",
      " 4   Genre         16598 non-null  object \n",
      " 5   Publisher     16540 non-null  object \n",
      " 6   NA_Sales      16598 non-null  float64\n",
      " 7   EU_Sales      16598 non-null  float64\n",
      " 8   JP_Sales      16598 non-null  float64\n",
      " 9   Other_Sales   16598 non-null  float64\n",
      " 10  Global_Sales  16598 non-null  float64\n",
      "dtypes: float64(6), int64(1), object(4)\n",
      "memory usage: 1.4+ MB\n"
     ]
    }
   ],
   "source": [
    "dataset.info()"
   ]
  },
  {
   "cell_type": "markdown",
   "id": "8e04d6dd",
   "metadata": {
    "papermill": {
     "duration": 0.009667,
     "end_time": "2023-09-02T19:39:51.942707",
     "exception": false,
     "start_time": "2023-09-02T19:39:51.933040",
     "status": "completed"
    },
    "tags": []
   },
   "source": [
    "Avaliando os primeiros 5 resultados da nossa base de dados, vemos que os top 5 jogos mais vendidos mundialmente, de acordo com o Rank, são: Wii Sports, Super Mario Bros, Mario Kart Wii, Wii Sports Resort, Pokemon Red/Pokemon Blue."
   ]
  },
  {
   "cell_type": "code",
   "execution_count": 3,
   "id": "7500fe9c",
   "metadata": {
    "execution": {
     "iopub.execute_input": "2023-09-02T19:39:51.964024Z",
     "iopub.status.busy": "2023-09-02T19:39:51.963658Z",
     "iopub.status.idle": "2023-09-02T19:39:51.986267Z",
     "shell.execute_reply": "2023-09-02T19:39:51.985436Z"
    },
    "jupyter": {
     "source_hidden": true
    },
    "papermill": {
     "duration": 0.035682,
     "end_time": "2023-09-02T19:39:51.988290",
     "exception": false,
     "start_time": "2023-09-02T19:39:51.952608",
     "status": "completed"
    },
    "tags": []
   },
   "outputs": [
    {
     "data": {
      "text/html": [
       "<div>\n",
       "<style scoped>\n",
       "    .dataframe tbody tr th:only-of-type {\n",
       "        vertical-align: middle;\n",
       "    }\n",
       "\n",
       "    .dataframe tbody tr th {\n",
       "        vertical-align: top;\n",
       "    }\n",
       "\n",
       "    .dataframe thead th {\n",
       "        text-align: right;\n",
       "    }\n",
       "</style>\n",
       "<table border=\"1\" class=\"dataframe\">\n",
       "  <thead>\n",
       "    <tr style=\"text-align: right;\">\n",
       "      <th></th>\n",
       "      <th>Rank</th>\n",
       "      <th>Name</th>\n",
       "      <th>Platform</th>\n",
       "      <th>Year</th>\n",
       "      <th>Genre</th>\n",
       "      <th>Publisher</th>\n",
       "      <th>NA_Sales</th>\n",
       "      <th>EU_Sales</th>\n",
       "      <th>JP_Sales</th>\n",
       "      <th>Other_Sales</th>\n",
       "      <th>Global_Sales</th>\n",
       "    </tr>\n",
       "  </thead>\n",
       "  <tbody>\n",
       "    <tr>\n",
       "      <th>0</th>\n",
       "      <td>1</td>\n",
       "      <td>Wii Sports</td>\n",
       "      <td>Wii</td>\n",
       "      <td>2006.0</td>\n",
       "      <td>Sports</td>\n",
       "      <td>Nintendo</td>\n",
       "      <td>41.49</td>\n",
       "      <td>29.02</td>\n",
       "      <td>3.77</td>\n",
       "      <td>8.46</td>\n",
       "      <td>82.74</td>\n",
       "    </tr>\n",
       "    <tr>\n",
       "      <th>1</th>\n",
       "      <td>2</td>\n",
       "      <td>Super Mario Bros.</td>\n",
       "      <td>NES</td>\n",
       "      <td>1985.0</td>\n",
       "      <td>Platform</td>\n",
       "      <td>Nintendo</td>\n",
       "      <td>29.08</td>\n",
       "      <td>3.58</td>\n",
       "      <td>6.81</td>\n",
       "      <td>0.77</td>\n",
       "      <td>40.24</td>\n",
       "    </tr>\n",
       "    <tr>\n",
       "      <th>2</th>\n",
       "      <td>3</td>\n",
       "      <td>Mario Kart Wii</td>\n",
       "      <td>Wii</td>\n",
       "      <td>2008.0</td>\n",
       "      <td>Racing</td>\n",
       "      <td>Nintendo</td>\n",
       "      <td>15.85</td>\n",
       "      <td>12.88</td>\n",
       "      <td>3.79</td>\n",
       "      <td>3.31</td>\n",
       "      <td>35.82</td>\n",
       "    </tr>\n",
       "    <tr>\n",
       "      <th>3</th>\n",
       "      <td>4</td>\n",
       "      <td>Wii Sports Resort</td>\n",
       "      <td>Wii</td>\n",
       "      <td>2009.0</td>\n",
       "      <td>Sports</td>\n",
       "      <td>Nintendo</td>\n",
       "      <td>15.75</td>\n",
       "      <td>11.01</td>\n",
       "      <td>3.28</td>\n",
       "      <td>2.96</td>\n",
       "      <td>33.00</td>\n",
       "    </tr>\n",
       "    <tr>\n",
       "      <th>4</th>\n",
       "      <td>5</td>\n",
       "      <td>Pokemon Red/Pokemon Blue</td>\n",
       "      <td>GB</td>\n",
       "      <td>1996.0</td>\n",
       "      <td>Role-Playing</td>\n",
       "      <td>Nintendo</td>\n",
       "      <td>11.27</td>\n",
       "      <td>8.89</td>\n",
       "      <td>10.22</td>\n",
       "      <td>1.00</td>\n",
       "      <td>31.37</td>\n",
       "    </tr>\n",
       "  </tbody>\n",
       "</table>\n",
       "</div>"
      ],
      "text/plain": [
       "   Rank                      Name Platform    Year         Genre Publisher  \\\n",
       "0     1                Wii Sports      Wii  2006.0        Sports  Nintendo   \n",
       "1     2         Super Mario Bros.      NES  1985.0      Platform  Nintendo   \n",
       "2     3            Mario Kart Wii      Wii  2008.0        Racing  Nintendo   \n",
       "3     4         Wii Sports Resort      Wii  2009.0        Sports  Nintendo   \n",
       "4     5  Pokemon Red/Pokemon Blue       GB  1996.0  Role-Playing  Nintendo   \n",
       "\n",
       "   NA_Sales  EU_Sales  JP_Sales  Other_Sales  Global_Sales  \n",
       "0     41.49     29.02      3.77         8.46         82.74  \n",
       "1     29.08      3.58      6.81         0.77         40.24  \n",
       "2     15.85     12.88      3.79         3.31         35.82  \n",
       "3     15.75     11.01      3.28         2.96         33.00  \n",
       "4     11.27      8.89     10.22         1.00         31.37  "
      ]
     },
     "execution_count": 3,
     "metadata": {},
     "output_type": "execute_result"
    }
   ],
   "source": [
    "dataset.head()"
   ]
  },
  {
   "cell_type": "markdown",
   "id": "370cd1bc",
   "metadata": {
    "papermill": {
     "duration": 0.010299,
     "end_time": "2023-09-02T19:39:52.009038",
     "exception": false,
     "start_time": "2023-09-02T19:39:51.998739",
     "status": "completed"
    },
    "tags": []
   },
   "source": [
    "## 2. Eliminando as colunas que não vou utilizar nessa análise"
   ]
  },
  {
   "cell_type": "markdown",
   "id": "b49e46e9",
   "metadata": {
    "papermill": {
     "duration": 0.010023,
     "end_time": "2023-09-02T19:39:52.029376",
     "exception": false,
     "start_time": "2023-09-02T19:39:52.019353",
     "status": "completed"
    },
    "tags": []
   },
   "source": [
    "Entretanto, vamos analisar apenas os jogos do gênero Shooter e vendas a nível mundial (Global_Sales), portanto podemos eliminar algumas colunas nessa etapa. \n",
    "As colunas eliminadas serão: **NA_Sales, EU_Sales, JP_Sales, Other_Sales.**"
   ]
  },
  {
   "cell_type": "code",
   "execution_count": 4,
   "id": "8dfcc0ca",
   "metadata": {
    "execution": {
     "iopub.execute_input": "2023-09-02T19:39:52.051932Z",
     "iopub.status.busy": "2023-09-02T19:39:52.051547Z",
     "iopub.status.idle": "2023-09-02T19:39:52.099613Z",
     "shell.execute_reply": "2023-09-02T19:39:52.098618Z"
    },
    "papermill": {
     "duration": 0.062697,
     "end_time": "2023-09-02T19:39:52.102348",
     "exception": false,
     "start_time": "2023-09-02T19:39:52.039651",
     "status": "completed"
    },
    "tags": []
   },
   "outputs": [],
   "source": [
    "# Filtrando apenas as colunas que pretendo usar.\n",
    "df = dataset[['Rank',\n",
    "              'Name',\n",
    "              'Platform',\n",
    "              'Year',\n",
    "              'Genre',\n",
    "              'Publisher',\n",
    "              'Global_Sales']].copy()\n",
    "\n",
    "# Excluindo linhas que possuem valores nulos e duplicatas.\n",
    "df = df.dropna()\n",
    "df = df.drop_duplicates()"
   ]
  },
  {
   "cell_type": "code",
   "execution_count": 5,
   "id": "cc06a011",
   "metadata": {
    "execution": {
     "iopub.execute_input": "2023-09-02T19:39:52.125157Z",
     "iopub.status.busy": "2023-09-02T19:39:52.124772Z",
     "iopub.status.idle": "2023-09-02T19:39:52.159269Z",
     "shell.execute_reply": "2023-09-02T19:39:52.158203Z"
    },
    "jupyter": {
     "source_hidden": true
    },
    "papermill": {
     "duration": 0.048838,
     "end_time": "2023-09-02T19:39:52.161817",
     "exception": false,
     "start_time": "2023-09-02T19:39:52.112979",
     "status": "completed"
    },
    "tags": []
   },
   "outputs": [
    {
     "name": "stdout",
     "output_type": "stream",
     "text": [
      "<class 'pandas.core.frame.DataFrame'>\n",
      "Int64Index: 16291 entries, 0 to 16597\n",
      "Data columns (total 7 columns):\n",
      " #   Column        Non-Null Count  Dtype  \n",
      "---  ------        --------------  -----  \n",
      " 0   Rank          16291 non-null  int64  \n",
      " 1   Name          16291 non-null  object \n",
      " 2   Platform      16291 non-null  object \n",
      " 3   Year          16291 non-null  float64\n",
      " 4   Genre         16291 non-null  object \n",
      " 5   Publisher     16291 non-null  object \n",
      " 6   Global_Sales  16291 non-null  float64\n",
      "dtypes: float64(2), int64(1), object(4)\n",
      "memory usage: 1018.2+ KB\n"
     ]
    }
   ],
   "source": [
    "df.info()"
   ]
  },
  {
   "cell_type": "markdown",
   "id": "40e3f91e",
   "metadata": {
    "papermill": {
     "duration": 0.010427,
     "end_time": "2023-09-02T19:39:52.183015",
     "exception": false,
     "start_time": "2023-09-02T19:39:52.172588",
     "status": "completed"
    },
    "tags": []
   },
   "source": [
    "A partir daqui, quero limpar os dados para que eu consiga usar apenas as informações que me ajudarão a responder minha pergunta inicial, ou seja, preciso apenas dos jogos Shooter, que foram lançados a partir de 2010 para as plataformas PlayStation."
   ]
  },
  {
   "cell_type": "markdown",
   "id": "aa167cb5",
   "metadata": {
    "papermill": {
     "duration": 0.010263,
     "end_time": "2023-09-02T19:39:52.203766",
     "exception": false,
     "start_time": "2023-09-02T19:39:52.193503",
     "status": "completed"
    },
    "tags": []
   },
   "source": [
    "## 3. Filtrando apenas jogos do gênero Shooter"
   ]
  },
  {
   "cell_type": "code",
   "execution_count": 6,
   "id": "56453a85",
   "metadata": {
    "execution": {
     "iopub.execute_input": "2023-09-02T19:39:52.227081Z",
     "iopub.status.busy": "2023-09-02T19:39:52.226730Z",
     "iopub.status.idle": "2023-09-02T19:39:52.260296Z",
     "shell.execute_reply": "2023-09-02T19:39:52.259243Z"
    },
    "papermill": {
     "duration": 0.048076,
     "end_time": "2023-09-02T19:39:52.262666",
     "exception": false,
     "start_time": "2023-09-02T19:39:52.214590",
     "status": "completed"
    },
    "tags": []
   },
   "outputs": [
    {
     "data": {
      "text/html": [
       "<div>\n",
       "<style scoped>\n",
       "    .dataframe tbody tr th:only-of-type {\n",
       "        vertical-align: middle;\n",
       "    }\n",
       "\n",
       "    .dataframe tbody tr th {\n",
       "        vertical-align: top;\n",
       "    }\n",
       "\n",
       "    .dataframe thead th {\n",
       "        text-align: right;\n",
       "    }\n",
       "</style>\n",
       "<table border=\"1\" class=\"dataframe\">\n",
       "  <thead>\n",
       "    <tr style=\"text-align: right;\">\n",
       "      <th></th>\n",
       "      <th>Rank</th>\n",
       "      <th>Name</th>\n",
       "      <th>Platform</th>\n",
       "      <th>Year</th>\n",
       "      <th>Genre</th>\n",
       "      <th>Publisher</th>\n",
       "      <th>Global_Sales</th>\n",
       "    </tr>\n",
       "  </thead>\n",
       "  <tbody>\n",
       "    <tr>\n",
       "      <th>33</th>\n",
       "      <td>34</td>\n",
       "      <td>Call of Duty: Black Ops 3</td>\n",
       "      <td>PS4</td>\n",
       "      <td>2015</td>\n",
       "      <td>Shooter</td>\n",
       "      <td>Activision</td>\n",
       "      <td>14.24</td>\n",
       "    </tr>\n",
       "    <tr>\n",
       "      <th>34</th>\n",
       "      <td>35</td>\n",
       "      <td>Call of Duty: Black Ops II</td>\n",
       "      <td>PS3</td>\n",
       "      <td>2012</td>\n",
       "      <td>Shooter</td>\n",
       "      <td>Activision</td>\n",
       "      <td>14.03</td>\n",
       "    </tr>\n",
       "    <tr>\n",
       "      <th>37</th>\n",
       "      <td>38</td>\n",
       "      <td>Call of Duty: Modern Warfare 3</td>\n",
       "      <td>PS3</td>\n",
       "      <td>2011</td>\n",
       "      <td>Shooter</td>\n",
       "      <td>Activision</td>\n",
       "      <td>13.46</td>\n",
       "    </tr>\n",
       "    <tr>\n",
       "      <th>40</th>\n",
       "      <td>41</td>\n",
       "      <td>Call of Duty: Black Ops</td>\n",
       "      <td>PS3</td>\n",
       "      <td>2010</td>\n",
       "      <td>Shooter</td>\n",
       "      <td>Activision</td>\n",
       "      <td>12.73</td>\n",
       "    </tr>\n",
       "    <tr>\n",
       "      <th>67</th>\n",
       "      <td>68</td>\n",
       "      <td>Call of Duty: Ghosts</td>\n",
       "      <td>PS3</td>\n",
       "      <td>2013</td>\n",
       "      <td>Shooter</td>\n",
       "      <td>Activision</td>\n",
       "      <td>9.59</td>\n",
       "    </tr>\n",
       "    <tr>\n",
       "      <th>92</th>\n",
       "      <td>93</td>\n",
       "      <td>Star Wars Battlefront (2015)</td>\n",
       "      <td>PS4</td>\n",
       "      <td>2015</td>\n",
       "      <td>Shooter</td>\n",
       "      <td>Electronic Arts</td>\n",
       "      <td>7.67</td>\n",
       "    </tr>\n",
       "    <tr>\n",
       "      <th>93</th>\n",
       "      <td>94</td>\n",
       "      <td>Call of Duty: Advanced Warfare</td>\n",
       "      <td>PS4</td>\n",
       "      <td>2014</td>\n",
       "      <td>Shooter</td>\n",
       "      <td>Activision</td>\n",
       "      <td>7.60</td>\n",
       "    </tr>\n",
       "    <tr>\n",
       "      <th>103</th>\n",
       "      <td>104</td>\n",
       "      <td>Battlefield 3</td>\n",
       "      <td>PS3</td>\n",
       "      <td>2011</td>\n",
       "      <td>Shooter</td>\n",
       "      <td>Electronic Arts</td>\n",
       "      <td>7.23</td>\n",
       "    </tr>\n",
       "    <tr>\n",
       "      <th>154</th>\n",
       "      <td>155</td>\n",
       "      <td>Destiny</td>\n",
       "      <td>PS4</td>\n",
       "      <td>2014</td>\n",
       "      <td>Shooter</td>\n",
       "      <td>Activision</td>\n",
       "      <td>5.65</td>\n",
       "    </tr>\n",
       "    <tr>\n",
       "      <th>244</th>\n",
       "      <td>245</td>\n",
       "      <td>Call of Duty: Advanced Warfare</td>\n",
       "      <td>PS3</td>\n",
       "      <td>2014</td>\n",
       "      <td>Shooter</td>\n",
       "      <td>Activision</td>\n",
       "      <td>4.45</td>\n",
       "    </tr>\n",
       "    <tr>\n",
       "      <th>271</th>\n",
       "      <td>272</td>\n",
       "      <td>Uncharted 4: A Thief's End</td>\n",
       "      <td>PS4</td>\n",
       "      <td>2016</td>\n",
       "      <td>Shooter</td>\n",
       "      <td>Sony Computer Entertainment</td>\n",
       "      <td>4.20</td>\n",
       "    </tr>\n",
       "    <tr>\n",
       "      <th>295</th>\n",
       "      <td>296</td>\n",
       "      <td>Far Cry 4</td>\n",
       "      <td>PS4</td>\n",
       "      <td>2014</td>\n",
       "      <td>Shooter</td>\n",
       "      <td>Ubisoft</td>\n",
       "      <td>4.03</td>\n",
       "    </tr>\n",
       "    <tr>\n",
       "      <th>336</th>\n",
       "      <td>337</td>\n",
       "      <td>Battlefield 4</td>\n",
       "      <td>PS3</td>\n",
       "      <td>2013</td>\n",
       "      <td>Shooter</td>\n",
       "      <td>Electronic Arts</td>\n",
       "      <td>3.69</td>\n",
       "    </tr>\n",
       "    <tr>\n",
       "      <th>349</th>\n",
       "      <td>350</td>\n",
       "      <td>Call of Duty: Ghosts</td>\n",
       "      <td>PS4</td>\n",
       "      <td>2013</td>\n",
       "      <td>Shooter</td>\n",
       "      <td>Activision</td>\n",
       "      <td>3.63</td>\n",
       "    </tr>\n",
       "    <tr>\n",
       "      <th>351</th>\n",
       "      <td>352</td>\n",
       "      <td>Tom Clancy's The Division</td>\n",
       "      <td>PS4</td>\n",
       "      <td>2016</td>\n",
       "      <td>Shooter</td>\n",
       "      <td>Ubisoft</td>\n",
       "      <td>3.61</td>\n",
       "    </tr>\n",
       "    <tr>\n",
       "      <th>382</th>\n",
       "      <td>383</td>\n",
       "      <td>Far Cry 3</td>\n",
       "      <td>PS3</td>\n",
       "      <td>2012</td>\n",
       "      <td>Shooter</td>\n",
       "      <td>Ubisoft</td>\n",
       "      <td>3.45</td>\n",
       "    </tr>\n",
       "    <tr>\n",
       "      <th>386</th>\n",
       "      <td>387</td>\n",
       "      <td>Battlefield 4</td>\n",
       "      <td>PS4</td>\n",
       "      <td>2013</td>\n",
       "      <td>Shooter</td>\n",
       "      <td>Electronic Arts</td>\n",
       "      <td>3.43</td>\n",
       "    </tr>\n",
       "    <tr>\n",
       "      <th>438</th>\n",
       "      <td>439</td>\n",
       "      <td>Resident Evil 6</td>\n",
       "      <td>PS3</td>\n",
       "      <td>2012</td>\n",
       "      <td>Shooter</td>\n",
       "      <td>Capcom</td>\n",
       "      <td>3.15</td>\n",
       "    </tr>\n",
       "    <tr>\n",
       "      <th>477</th>\n",
       "      <td>478</td>\n",
       "      <td>Battlefield: Bad Company 2</td>\n",
       "      <td>PS3</td>\n",
       "      <td>2010</td>\n",
       "      <td>Shooter</td>\n",
       "      <td>Electronic Arts</td>\n",
       "      <td>2.97</td>\n",
       "    </tr>\n",
       "    <tr>\n",
       "      <th>517</th>\n",
       "      <td>518</td>\n",
       "      <td>Medal of Honor</td>\n",
       "      <td>PS3</td>\n",
       "      <td>2010</td>\n",
       "      <td>Shooter</td>\n",
       "      <td>Electronic Arts</td>\n",
       "      <td>2.83</td>\n",
       "    </tr>\n",
       "    <tr>\n",
       "      <th>528</th>\n",
       "      <td>529</td>\n",
       "      <td>Killzone 3</td>\n",
       "      <td>PS3</td>\n",
       "      <td>2011</td>\n",
       "      <td>Shooter</td>\n",
       "      <td>Sony Computer Entertainment</td>\n",
       "      <td>2.79</td>\n",
       "    </tr>\n",
       "    <tr>\n",
       "      <th>593</th>\n",
       "      <td>594</td>\n",
       "      <td>Killzone: Shadow Fall</td>\n",
       "      <td>PS4</td>\n",
       "      <td>2013</td>\n",
       "      <td>Shooter</td>\n",
       "      <td>Sony Computer Entertainment</td>\n",
       "      <td>2.58</td>\n",
       "    </tr>\n",
       "    <tr>\n",
       "      <th>703</th>\n",
       "      <td>705</td>\n",
       "      <td>Borderlands 2</td>\n",
       "      <td>PS3</td>\n",
       "      <td>2012</td>\n",
       "      <td>Shooter</td>\n",
       "      <td>Take-Two Interactive</td>\n",
       "      <td>2.28</td>\n",
       "    </tr>\n",
       "    <tr>\n",
       "      <th>758</th>\n",
       "      <td>760</td>\n",
       "      <td>Tom Clancy's Rainbow Six: Siege</td>\n",
       "      <td>PS4</td>\n",
       "      <td>2015</td>\n",
       "      <td>Shooter</td>\n",
       "      <td>Ubisoft</td>\n",
       "      <td>2.15</td>\n",
       "    </tr>\n",
       "    <tr>\n",
       "      <th>797</th>\n",
       "      <td>799</td>\n",
       "      <td>Battlefield: Hardline</td>\n",
       "      <td>PS4</td>\n",
       "      <td>2015</td>\n",
       "      <td>Shooter</td>\n",
       "      <td>Electronic Arts</td>\n",
       "      <td>2.09</td>\n",
       "    </tr>\n",
       "    <tr>\n",
       "      <th>905</th>\n",
       "      <td>907</td>\n",
       "      <td>Destiny: The Taken King</td>\n",
       "      <td>PS4</td>\n",
       "      <td>2015</td>\n",
       "      <td>Shooter</td>\n",
       "      <td>Activision</td>\n",
       "      <td>1.91</td>\n",
       "    </tr>\n",
       "    <tr>\n",
       "      <th>908</th>\n",
       "      <td>910</td>\n",
       "      <td>Max Payne 3</td>\n",
       "      <td>PS3</td>\n",
       "      <td>2012</td>\n",
       "      <td>Shooter</td>\n",
       "      <td>Take-Two Interactive</td>\n",
       "      <td>1.90</td>\n",
       "    </tr>\n",
       "    <tr>\n",
       "      <th>967</th>\n",
       "      <td>969</td>\n",
       "      <td>Call of Duty: Black Ops 3</td>\n",
       "      <td>PS3</td>\n",
       "      <td>2015</td>\n",
       "      <td>Shooter</td>\n",
       "      <td>Activision</td>\n",
       "      <td>1.79</td>\n",
       "    </tr>\n",
       "    <tr>\n",
       "      <th>996</th>\n",
       "      <td>998</td>\n",
       "      <td>BioShock Infinite</td>\n",
       "      <td>PS3</td>\n",
       "      <td>2013</td>\n",
       "      <td>Shooter</td>\n",
       "      <td>Take-Two Interactive</td>\n",
       "      <td>1.76</td>\n",
       "    </tr>\n",
       "    <tr>\n",
       "      <th>1016</th>\n",
       "      <td>1018</td>\n",
       "      <td>Portal 2</td>\n",
       "      <td>PS3</td>\n",
       "      <td>2011</td>\n",
       "      <td>Shooter</td>\n",
       "      <td>Valve</td>\n",
       "      <td>1.74</td>\n",
       "    </tr>\n",
       "    <tr>\n",
       "      <th>1024</th>\n",
       "      <td>1026</td>\n",
       "      <td>Destiny</td>\n",
       "      <td>PS3</td>\n",
       "      <td>2014</td>\n",
       "      <td>Shooter</td>\n",
       "      <td>Activision</td>\n",
       "      <td>1.73</td>\n",
       "    </tr>\n",
       "    <tr>\n",
       "      <th>1026</th>\n",
       "      <td>1028</td>\n",
       "      <td>Overwatch</td>\n",
       "      <td>PS4</td>\n",
       "      <td>2016</td>\n",
       "      <td>Shooter</td>\n",
       "      <td>Activision</td>\n",
       "      <td>1.73</td>\n",
       "    </tr>\n",
       "    <tr>\n",
       "      <th>1033</th>\n",
       "      <td>1035</td>\n",
       "      <td>The Order: 1886</td>\n",
       "      <td>PS4</td>\n",
       "      <td>2015</td>\n",
       "      <td>Shooter</td>\n",
       "      <td>Sony Computer Entertainment</td>\n",
       "      <td>1.72</td>\n",
       "    </tr>\n",
       "    <tr>\n",
       "      <th>1168</th>\n",
       "      <td>1170</td>\n",
       "      <td>Wolfenstein: The New Order</td>\n",
       "      <td>PS4</td>\n",
       "      <td>2014</td>\n",
       "      <td>Shooter</td>\n",
       "      <td>Bethesda Softworks</td>\n",
       "      <td>1.58</td>\n",
       "    </tr>\n",
       "    <tr>\n",
       "      <th>1199</th>\n",
       "      <td>1201</td>\n",
       "      <td>BioShock 2</td>\n",
       "      <td>PS3</td>\n",
       "      <td>2010</td>\n",
       "      <td>Shooter</td>\n",
       "      <td>Take-Two Interactive</td>\n",
       "      <td>1.55</td>\n",
       "    </tr>\n",
       "    <tr>\n",
       "      <th>1252</th>\n",
       "      <td>1254</td>\n",
       "      <td>Resistance 3</td>\n",
       "      <td>PS3</td>\n",
       "      <td>2011</td>\n",
       "      <td>Shooter</td>\n",
       "      <td>Sony Computer Entertainment</td>\n",
       "      <td>1.50</td>\n",
       "    </tr>\n",
       "    <tr>\n",
       "      <th>1337</th>\n",
       "      <td>1339</td>\n",
       "      <td>Far Cry 4</td>\n",
       "      <td>PS3</td>\n",
       "      <td>2014</td>\n",
       "      <td>Shooter</td>\n",
       "      <td>Ubisoft</td>\n",
       "      <td>1.44</td>\n",
       "    </tr>\n",
       "    <tr>\n",
       "      <th>1343</th>\n",
       "      <td>1345</td>\n",
       "      <td>Dead Space 2</td>\n",
       "      <td>PS3</td>\n",
       "      <td>2011</td>\n",
       "      <td>Shooter</td>\n",
       "      <td>Electronic Arts</td>\n",
       "      <td>1.44</td>\n",
       "    </tr>\n",
       "    <tr>\n",
       "      <th>1389</th>\n",
       "      <td>1391</td>\n",
       "      <td>Doom (2016)</td>\n",
       "      <td>PS4</td>\n",
       "      <td>2016</td>\n",
       "      <td>Shooter</td>\n",
       "      <td>Bethesda Softworks</td>\n",
       "      <td>1.39</td>\n",
       "    </tr>\n",
       "    <tr>\n",
       "      <th>1392</th>\n",
       "      <td>1394</td>\n",
       "      <td>Deus Ex: Human Revolution</td>\n",
       "      <td>PS3</td>\n",
       "      <td>2011</td>\n",
       "      <td>Shooter</td>\n",
       "      <td>Square Enix</td>\n",
       "      <td>1.39</td>\n",
       "    </tr>\n",
       "    <tr>\n",
       "      <th>1468</th>\n",
       "      <td>1470</td>\n",
       "      <td>Rage</td>\n",
       "      <td>PS3</td>\n",
       "      <td>2011</td>\n",
       "      <td>Shooter</td>\n",
       "      <td>Bethesda Softworks</td>\n",
       "      <td>1.33</td>\n",
       "    </tr>\n",
       "    <tr>\n",
       "      <th>1494</th>\n",
       "      <td>1496</td>\n",
       "      <td>MAG: Massive Action Game</td>\n",
       "      <td>PS3</td>\n",
       "      <td>2010</td>\n",
       "      <td>Shooter</td>\n",
       "      <td>Sony Computer Entertainment</td>\n",
       "      <td>1.32</td>\n",
       "    </tr>\n",
       "    <tr>\n",
       "      <th>1812</th>\n",
       "      <td>1814</td>\n",
       "      <td>Alien: Isolation</td>\n",
       "      <td>PS4</td>\n",
       "      <td>2014</td>\n",
       "      <td>Shooter</td>\n",
       "      <td>Sega</td>\n",
       "      <td>1.13</td>\n",
       "    </tr>\n",
       "    <tr>\n",
       "      <th>1968</th>\n",
       "      <td>1970</td>\n",
       "      <td>Aliens vs Predator</td>\n",
       "      <td>PS3</td>\n",
       "      <td>2010</td>\n",
       "      <td>Shooter</td>\n",
       "      <td>Sega</td>\n",
       "      <td>1.05</td>\n",
       "    </tr>\n",
       "  </tbody>\n",
       "</table>\n",
       "</div>"
      ],
      "text/plain": [
       "      Rank                             Name Platform  Year    Genre  \\\n",
       "33      34        Call of Duty: Black Ops 3      PS4  2015  Shooter   \n",
       "34      35       Call of Duty: Black Ops II      PS3  2012  Shooter   \n",
       "37      38   Call of Duty: Modern Warfare 3      PS3  2011  Shooter   \n",
       "40      41          Call of Duty: Black Ops      PS3  2010  Shooter   \n",
       "67      68             Call of Duty: Ghosts      PS3  2013  Shooter   \n",
       "92      93     Star Wars Battlefront (2015)      PS4  2015  Shooter   \n",
       "93      94   Call of Duty: Advanced Warfare      PS4  2014  Shooter   \n",
       "103    104                    Battlefield 3      PS3  2011  Shooter   \n",
       "154    155                          Destiny      PS4  2014  Shooter   \n",
       "244    245   Call of Duty: Advanced Warfare      PS3  2014  Shooter   \n",
       "271    272       Uncharted 4: A Thief's End      PS4  2016  Shooter   \n",
       "295    296                        Far Cry 4      PS4  2014  Shooter   \n",
       "336    337                    Battlefield 4      PS3  2013  Shooter   \n",
       "349    350             Call of Duty: Ghosts      PS4  2013  Shooter   \n",
       "351    352        Tom Clancy's The Division      PS4  2016  Shooter   \n",
       "382    383                        Far Cry 3      PS3  2012  Shooter   \n",
       "386    387                    Battlefield 4      PS4  2013  Shooter   \n",
       "438    439                  Resident Evil 6      PS3  2012  Shooter   \n",
       "477    478       Battlefield: Bad Company 2      PS3  2010  Shooter   \n",
       "517    518                   Medal of Honor      PS3  2010  Shooter   \n",
       "528    529                       Killzone 3      PS3  2011  Shooter   \n",
       "593    594            Killzone: Shadow Fall      PS4  2013  Shooter   \n",
       "703    705                    Borderlands 2      PS3  2012  Shooter   \n",
       "758    760  Tom Clancy's Rainbow Six: Siege      PS4  2015  Shooter   \n",
       "797    799            Battlefield: Hardline      PS4  2015  Shooter   \n",
       "905    907          Destiny: The Taken King      PS4  2015  Shooter   \n",
       "908    910                      Max Payne 3      PS3  2012  Shooter   \n",
       "967    969        Call of Duty: Black Ops 3      PS3  2015  Shooter   \n",
       "996    998                BioShock Infinite      PS3  2013  Shooter   \n",
       "1016  1018                         Portal 2      PS3  2011  Shooter   \n",
       "1024  1026                          Destiny      PS3  2014  Shooter   \n",
       "1026  1028                        Overwatch      PS4  2016  Shooter   \n",
       "1033  1035                  The Order: 1886      PS4  2015  Shooter   \n",
       "1168  1170       Wolfenstein: The New Order      PS4  2014  Shooter   \n",
       "1199  1201                       BioShock 2      PS3  2010  Shooter   \n",
       "1252  1254                     Resistance 3      PS3  2011  Shooter   \n",
       "1337  1339                        Far Cry 4      PS3  2014  Shooter   \n",
       "1343  1345                     Dead Space 2      PS3  2011  Shooter   \n",
       "1389  1391                      Doom (2016)      PS4  2016  Shooter   \n",
       "1392  1394        Deus Ex: Human Revolution      PS3  2011  Shooter   \n",
       "1468  1470                             Rage      PS3  2011  Shooter   \n",
       "1494  1496         MAG: Massive Action Game      PS3  2010  Shooter   \n",
       "1812  1814                 Alien: Isolation      PS4  2014  Shooter   \n",
       "1968  1970               Aliens vs Predator      PS3  2010  Shooter   \n",
       "\n",
       "                        Publisher  Global_Sales  \n",
       "33                     Activision         14.24  \n",
       "34                     Activision         14.03  \n",
       "37                     Activision         13.46  \n",
       "40                     Activision         12.73  \n",
       "67                     Activision          9.59  \n",
       "92                Electronic Arts          7.67  \n",
       "93                     Activision          7.60  \n",
       "103               Electronic Arts          7.23  \n",
       "154                    Activision          5.65  \n",
       "244                    Activision          4.45  \n",
       "271   Sony Computer Entertainment          4.20  \n",
       "295                       Ubisoft          4.03  \n",
       "336               Electronic Arts          3.69  \n",
       "349                    Activision          3.63  \n",
       "351                       Ubisoft          3.61  \n",
       "382                       Ubisoft          3.45  \n",
       "386               Electronic Arts          3.43  \n",
       "438                        Capcom          3.15  \n",
       "477               Electronic Arts          2.97  \n",
       "517               Electronic Arts          2.83  \n",
       "528   Sony Computer Entertainment          2.79  \n",
       "593   Sony Computer Entertainment          2.58  \n",
       "703          Take-Two Interactive          2.28  \n",
       "758                       Ubisoft          2.15  \n",
       "797               Electronic Arts          2.09  \n",
       "905                    Activision          1.91  \n",
       "908          Take-Two Interactive          1.90  \n",
       "967                    Activision          1.79  \n",
       "996          Take-Two Interactive          1.76  \n",
       "1016                        Valve          1.74  \n",
       "1024                   Activision          1.73  \n",
       "1026                   Activision          1.73  \n",
       "1033  Sony Computer Entertainment          1.72  \n",
       "1168           Bethesda Softworks          1.58  \n",
       "1199         Take-Two Interactive          1.55  \n",
       "1252  Sony Computer Entertainment          1.50  \n",
       "1337                      Ubisoft          1.44  \n",
       "1343              Electronic Arts          1.44  \n",
       "1389           Bethesda Softworks          1.39  \n",
       "1392                  Square Enix          1.39  \n",
       "1468           Bethesda Softworks          1.33  \n",
       "1494  Sony Computer Entertainment          1.32  \n",
       "1812                         Sega          1.13  \n",
       "1968                         Sega          1.05  "
      ]
     },
     "execution_count": 6,
     "metadata": {},
     "output_type": "execute_result"
    }
   ],
   "source": [
    "# Convertendo os dados da coluna Year de float para int\n",
    "df['Year'] = df['Year'].astype(int)\n",
    "\n",
    "# Filtrando jogos lançados a partir de 2010\n",
    "df = df[(df[\"Year\"] >= 2010)]\n",
    "\n",
    "# Filtrando apenas jogos lançados para Playstation\n",
    "platforms =[\"PS2\",\"PS3\",\"PS4\"]\n",
    "df = df[df.Platform.isin(platforms)]\n",
    "\n",
    "# Filtrando apenas jogos do gênero Shooter\n",
    "df = df[(df[\"Genre\"] == 'Shooter')]\n",
    "\n",
    "# Filtrando apenas Global_Sales acima de 1 e classificando a ordem de forma descendente\n",
    "df = df[(df[\"Global_Sales\"] >= 1)]\n",
    "df.sort_values(by=['Global_Sales'], ascending=False)\n"
   ]
  },
  {
   "cell_type": "code",
   "execution_count": 7,
   "id": "91687b0c",
   "metadata": {
    "execution": {
     "iopub.execute_input": "2023-09-02T19:39:52.287235Z",
     "iopub.status.busy": "2023-09-02T19:39:52.286623Z",
     "iopub.status.idle": "2023-09-02T19:39:52.292960Z",
     "shell.execute_reply": "2023-09-02T19:39:52.292098Z"
    },
    "papermill": {
     "duration": 0.021036,
     "end_time": "2023-09-02T19:39:52.295030",
     "exception": false,
     "start_time": "2023-09-02T19:39:52.273994",
     "status": "completed"
    },
    "tags": []
   },
   "outputs": [
    {
     "data": {
      "text/plain": [
       "(44, 7)"
      ]
     },
     "execution_count": 7,
     "metadata": {},
     "output_type": "execute_result"
    }
   ],
   "source": [
    "df.shape"
   ]
  },
  {
   "cell_type": "markdown",
   "id": "a9f6d952",
   "metadata": {
    "papermill": {
     "duration": 0.011176,
     "end_time": "2023-09-02T19:39:52.317748",
     "exception": false,
     "start_time": "2023-09-02T19:39:52.306572",
     "status": "completed"
    },
    "tags": []
   },
   "source": [
    "Nossa tabela de dados agora possui 44 linhas e 7 colunas. Sem valores duplicados ou nulos."
   ]
  },
  {
   "cell_type": "markdown",
   "id": "c105d427",
   "metadata": {
    "papermill": {
     "duration": 0.011333,
     "end_time": "2023-09-02T19:39:52.342285",
     "exception": false,
     "start_time": "2023-09-02T19:39:52.330952",
     "status": "completed"
    },
    "tags": []
   },
   "source": [
    "# Qual jogo do gênero Shooter foi o mais vendido para a plataforma PlayStation?"
   ]
  },
  {
   "cell_type": "code",
   "execution_count": 8,
   "id": "fd99b92f",
   "metadata": {
    "execution": {
     "iopub.execute_input": "2023-09-02T19:39:52.367163Z",
     "iopub.status.busy": "2023-09-02T19:39:52.366547Z",
     "iopub.status.idle": "2023-09-02T19:39:52.379773Z",
     "shell.execute_reply": "2023-09-02T19:39:52.378681Z"
    },
    "jupyter": {
     "source_hidden": true
    },
    "papermill": {
     "duration": 0.028164,
     "end_time": "2023-09-02T19:39:52.381899",
     "exception": false,
     "start_time": "2023-09-02T19:39:52.353735",
     "status": "completed"
    },
    "tags": []
   },
   "outputs": [
    {
     "data": {
      "text/html": [
       "<div>\n",
       "<style scoped>\n",
       "    .dataframe tbody tr th:only-of-type {\n",
       "        vertical-align: middle;\n",
       "    }\n",
       "\n",
       "    .dataframe tbody tr th {\n",
       "        vertical-align: top;\n",
       "    }\n",
       "\n",
       "    .dataframe thead th {\n",
       "        text-align: right;\n",
       "    }\n",
       "</style>\n",
       "<table border=\"1\" class=\"dataframe\">\n",
       "  <thead>\n",
       "    <tr style=\"text-align: right;\">\n",
       "      <th></th>\n",
       "      <th>Rank</th>\n",
       "      <th>Name</th>\n",
       "      <th>Platform</th>\n",
       "      <th>Year</th>\n",
       "      <th>Genre</th>\n",
       "      <th>Publisher</th>\n",
       "      <th>Global_Sales</th>\n",
       "    </tr>\n",
       "  </thead>\n",
       "  <tbody>\n",
       "    <tr>\n",
       "      <th>33</th>\n",
       "      <td>34</td>\n",
       "      <td>Call of Duty: Black Ops 3</td>\n",
       "      <td>PS4</td>\n",
       "      <td>2015</td>\n",
       "      <td>Shooter</td>\n",
       "      <td>Activision</td>\n",
       "      <td>14.24</td>\n",
       "    </tr>\n",
       "    <tr>\n",
       "      <th>34</th>\n",
       "      <td>35</td>\n",
       "      <td>Call of Duty: Black Ops II</td>\n",
       "      <td>PS3</td>\n",
       "      <td>2012</td>\n",
       "      <td>Shooter</td>\n",
       "      <td>Activision</td>\n",
       "      <td>14.03</td>\n",
       "    </tr>\n",
       "    <tr>\n",
       "      <th>37</th>\n",
       "      <td>38</td>\n",
       "      <td>Call of Duty: Modern Warfare 3</td>\n",
       "      <td>PS3</td>\n",
       "      <td>2011</td>\n",
       "      <td>Shooter</td>\n",
       "      <td>Activision</td>\n",
       "      <td>13.46</td>\n",
       "    </tr>\n",
       "    <tr>\n",
       "      <th>40</th>\n",
       "      <td>41</td>\n",
       "      <td>Call of Duty: Black Ops</td>\n",
       "      <td>PS3</td>\n",
       "      <td>2010</td>\n",
       "      <td>Shooter</td>\n",
       "      <td>Activision</td>\n",
       "      <td>12.73</td>\n",
       "    </tr>\n",
       "    <tr>\n",
       "      <th>67</th>\n",
       "      <td>68</td>\n",
       "      <td>Call of Duty: Ghosts</td>\n",
       "      <td>PS3</td>\n",
       "      <td>2013</td>\n",
       "      <td>Shooter</td>\n",
       "      <td>Activision</td>\n",
       "      <td>9.59</td>\n",
       "    </tr>\n",
       "  </tbody>\n",
       "</table>\n",
       "</div>"
      ],
      "text/plain": [
       "    Rank                            Name Platform  Year    Genre   Publisher  \\\n",
       "33    34       Call of Duty: Black Ops 3      PS4  2015  Shooter  Activision   \n",
       "34    35      Call of Duty: Black Ops II      PS3  2012  Shooter  Activision   \n",
       "37    38  Call of Duty: Modern Warfare 3      PS3  2011  Shooter  Activision   \n",
       "40    41         Call of Duty: Black Ops      PS3  2010  Shooter  Activision   \n",
       "67    68            Call of Duty: Ghosts      PS3  2013  Shooter  Activision   \n",
       "\n",
       "    Global_Sales  \n",
       "33         14.24  \n",
       "34         14.03  \n",
       "37         13.46  \n",
       "40         12.73  \n",
       "67          9.59  "
      ]
     },
     "execution_count": 8,
     "metadata": {},
     "output_type": "execute_result"
    }
   ],
   "source": [
    "df.head()"
   ]
  },
  {
   "cell_type": "markdown",
   "id": "eb161b95",
   "metadata": {
    "papermill": {
     "duration": 0.011617,
     "end_time": "2023-09-02T19:39:52.405130",
     "exception": false,
     "start_time": "2023-09-02T19:39:52.393513",
     "status": "completed"
    },
    "tags": []
   },
   "source": [
    "<center><img src=\"https://cdn2.steamgriddb.com/file/sgdb-cdn/hero/e136876296da8524fd7568266c80bfe2.jpg\" width=\"800\"></center>\n",
    "<center><h3 style=\"color:green;\">Call of Duty: Black Ops 3 foi o jogo mais vendido, totalizando 14.24 milhões de vendas globais para PS4.</h3></center>\n"
   ]
  },
  {
   "cell_type": "markdown",
   "id": "fc65fcb2",
   "metadata": {
    "papermill": {
     "duration": 0.011442,
     "end_time": "2023-09-02T19:39:52.428551",
     "exception": false,
     "start_time": "2023-09-02T19:39:52.417109",
     "status": "completed"
    },
    "tags": []
   },
   "source": [
    "## Além de Call of Duty, quais foram as outras franquias que se destacaram ao considerarmos vendas globais?"
   ]
  },
  {
   "cell_type": "markdown",
   "id": "9a961302",
   "metadata": {
    "papermill": {
     "duration": 0.011391,
     "end_time": "2023-09-02T19:39:52.451592",
     "exception": false,
     "start_time": "2023-09-02T19:39:52.440201",
     "status": "completed"
    },
    "tags": []
   },
   "source": [
    "Para responder à essa pergunta, vou fazer um agrupamento das franquias de acordo com as informações da coluna \"Name\"."
   ]
  },
  {
   "cell_type": "code",
   "execution_count": 9,
   "id": "01369604",
   "metadata": {
    "execution": {
     "iopub.execute_input": "2023-09-02T19:39:52.477009Z",
     "iopub.status.busy": "2023-09-02T19:39:52.476339Z",
     "iopub.status.idle": "2023-09-02T19:39:52.489068Z",
     "shell.execute_reply": "2023-09-02T19:39:52.488313Z"
    },
    "papermill": {
     "duration": 0.028203,
     "end_time": "2023-09-02T19:39:52.491343",
     "exception": false,
     "start_time": "2023-09-02T19:39:52.463140",
     "status": "completed"
    },
    "tags": []
   },
   "outputs": [],
   "source": [
    "# Agrupando as principais franquias da lista.\n",
    "cod = df[df.Name.str.contains('Call of Duty')]\n",
    "battlefield = df[df.Name.str.contains('Battlefield')]\n",
    "destiny = df[df.Name.str.contains('Destiny')]\n",
    "far_cry = df[df.Name.str.contains('Far Cry')]\n",
    "sw = df[df.Name.str.contains('Star Wars')]\n",
    "tom_clancy = df[df.Name.str.contains('Tom Clancy')]\n",
    "\n",
    "# Criando uma lista com as vendas totais de cada franquia.\n",
    "franquias_global_sales = cod.Global_Sales.sum(), battlefield.Global_Sales.sum(), destiny.Global_Sales.sum().round(2), far_cry.Global_Sales.sum(), sw.Global_Sales.sum(),tom_clancy.Global_Sales.sum() \n"
   ]
  },
  {
   "cell_type": "code",
   "execution_count": 10,
   "id": "d71446bb",
   "metadata": {
    "execution": {
     "iopub.execute_input": "2023-09-02T19:39:52.517580Z",
     "iopub.status.busy": "2023-09-02T19:39:52.517173Z",
     "iopub.status.idle": "2023-09-02T19:39:52.754861Z",
     "shell.execute_reply": "2023-09-02T19:39:52.753763Z"
    },
    "papermill": {
     "duration": 0.25369,
     "end_time": "2023-09-02T19:39:52.757338",
     "exception": false,
     "start_time": "2023-09-02T19:39:52.503648",
     "status": "completed"
    },
    "tags": []
   },
   "outputs": [
    {
     "data": {
      "image/png": "[encoded data removed]",
      "text/plain": [
       "<Figure size 640x480 with 1 Axes>"
      ]
     },
     "metadata": {},
     "output_type": "display_data"
    }
   ],
   "source": [
    "# Criando a representação gráfica\n",
    "\n",
    "# Definindo as labels do gráfico\n",
    "Franquia = ['Call of Duty', 'Battlefield', 'Destiny', 'Far Cry', 'Star Wars', 'Tom Clancys']\n",
    "\n",
    "# Definindo os valores das fatias, com base nas vendas em franquias_global_sales\n",
    "Vendas = franquias_global_sales\n",
    "\n",
    "# Definição de cores\n",
    "colors = ['#738290', '#A1B5D8', '#FFFCF7', '#E4F0D0', '#C2D8B9', '#BADEFC' ]\n",
    "\n",
    "# Pie Chart\n",
    "plt.pie(Vendas, colors=colors, labels=Franquia, autopct='%1.1f%%', pctdistance=0.70)\n",
    "\n",
    "# Adicionando o título\n",
    "plt.title('Representação de vendas por franquias')\n",
    "\n",
    "# Plotando o gráfico\n",
    "plt.show()\n"
   ]
  },
  {
   "cell_type": "code",
   "execution_count": 11,
   "id": "ba6507e3",
   "metadata": {
    "execution": {
     "iopub.execute_input": "2023-09-02T19:39:52.784646Z",
     "iopub.status.busy": "2023-09-02T19:39:52.783902Z",
     "iopub.status.idle": "2023-09-02T19:39:52.848708Z",
     "shell.execute_reply": "2023-09-02T19:39:52.847594Z"
    },
    "jupyter": {
     "source_hidden": true
    },
    "papermill": {
     "duration": 0.08095,
     "end_time": "2023-09-02T19:39:52.851121",
     "exception": false,
     "start_time": "2023-09-02T19:39:52.770171",
     "status": "completed"
    },
    "tags": []
   },
   "outputs": [
    {
     "data": {
      "text/html": [
       "<style type=\"text/css\">\n",
       "</style>\n",
       "<table id=\"T_7e0b5\">\n",
       "  <thead>\n",
       "    <tr>\n",
       "      <th class=\"blank level0\" >&nbsp;</th>\n",
       "      <th id=\"T_7e0b5_level0_col0\" class=\"col_heading level0 col0\" >FRANQUIA</th>\n",
       "      <th id=\"T_7e0b5_level0_col1\" class=\"col_heading level0 col1\" >VENDAS GLOBAIS</th>\n",
       "    </tr>\n",
       "  </thead>\n",
       "  <tbody>\n",
       "    <tr>\n",
       "      <th id=\"T_7e0b5_level0_row0\" class=\"row_heading level0 row0\" >0</th>\n",
       "      <td id=\"T_7e0b5_row0_col0\" class=\"data row0 col0\" >Battlefield</td>\n",
       "      <td id=\"T_7e0b5_row0_col1\" class=\"data row0 col1\" >19.41</td>\n",
       "    </tr>\n",
       "    <tr>\n",
       "      <th id=\"T_7e0b5_level0_row1\" class=\"row_heading level0 row1\" >1</th>\n",
       "      <td id=\"T_7e0b5_row1_col0\" class=\"data row1 col0\" >Destiny</td>\n",
       "      <td id=\"T_7e0b5_row1_col1\" class=\"data row1 col1\" >9.29</td>\n",
       "    </tr>\n",
       "    <tr>\n",
       "      <th id=\"T_7e0b5_level0_row2\" class=\"row_heading level0 row2\" >2</th>\n",
       "      <td id=\"T_7e0b5_row2_col0\" class=\"data row2 col0\" >Far Cry</td>\n",
       "      <td id=\"T_7e0b5_row2_col1\" class=\"data row2 col1\" >8.92</td>\n",
       "    </tr>\n",
       "    <tr>\n",
       "      <th id=\"T_7e0b5_level0_row3\" class=\"row_heading level0 row3\" >3</th>\n",
       "      <td id=\"T_7e0b5_row3_col0\" class=\"data row3 col0\" >Star Wars</td>\n",
       "      <td id=\"T_7e0b5_row3_col1\" class=\"data row3 col1\" >7.67</td>\n",
       "    </tr>\n",
       "    <tr>\n",
       "      <th id=\"T_7e0b5_level0_row4\" class=\"row_heading level0 row4\" >4</th>\n",
       "      <td id=\"T_7e0b5_row4_col0\" class=\"data row4 col0\" >Tom Clancy's</td>\n",
       "      <td id=\"T_7e0b5_row4_col1\" class=\"data row4 col1\" >5.76</td>\n",
       "    </tr>\n",
       "  </tbody>\n",
       "</table>\n"
      ],
      "text/plain": [
       "<pandas.io.formats.style.Styler at 0x7f03d2632860>"
      ]
     },
     "execution_count": 11,
     "metadata": {},
     "output_type": "execute_result"
    }
   ],
   "source": [
    "tabela_franquias = pd.DataFrame({\n",
    "    \"Franquia\": [\"Battlefield\", \"Destiny\", \"Far Cry\", \"Star Wars\", \"Tom Clancy's\"],\n",
    "    \"Vendas Globais\": [franquias_global_sales[1], franquias_global_sales[2], franquias_global_sales[3], franquias_global_sales[4], franquias_global_sales[5]]})\n",
    "tabela_franquias.style \\\n",
    "  .format(precision=2, thousands=\".\", decimal=\".\") \\\n",
    "  .format_index(str.upper, axis=1)"
   ]
  },
  {
   "cell_type": "markdown",
   "id": "c702adda",
   "metadata": {
    "papermill": {
     "duration": 0.012579,
     "end_time": "2023-09-02T19:39:52.876468",
     "exception": false,
     "start_time": "2023-09-02T19:39:52.863889",
     "status": "completed"
    },
    "tags": []
   },
   "source": [
    "### As outras franquias que se destacaram na lista foram: Battlefield, Destiny, Far Cry, Star Wars e Tom Clancy's."
   ]
  },
  {
   "cell_type": "markdown",
   "id": "d94d5453",
   "metadata": {
    "papermill": {
     "duration": 0.012775,
     "end_time": "2023-09-02T19:39:52.901747",
     "exception": false,
     "start_time": "2023-09-02T19:39:52.888972",
     "status": "completed"
    },
    "tags": []
   },
   "source": [
    "<center><img title=\"divisor\" width=\"800\" alt=\"divisor\" src=\"https://64.media.tumblr.com/374d6cccba5954a0fd521b259ebfa103/96bee921bd3fa00d-84/s2048x3072/fb8ae092e883c6d0921f8e1866e6b07d23e10d4b.pnj\"></center>"
   ]
  }
 ],
 "kernelspec": {
  "display_name": "Python 3",
  "language": "python",
  "name": "python3"
 },
 "language_info": {
  "codemirror_mode": {
   "name": "ipython",
   "version": 3
  },
  "file_extension": ".py",
  "mimetype": "text/x-python",
  "name": "python",
  "nbconvert_exporter": "python",
  "pygments_lexer": "ipython3",
  "version": "3.6.4"
 },
 "metadata": {
  "kernelspec": {
   "display_name": "Python 3",
   "language": "python",
   "name": "python3"
  },
  "language_info": {
   "codemirror_mode": {
    "name": "ipython",
    "version": 3
   },
   "file_extension": ".py",
   "mimetype": "text/x-python",
   "name": "python",
   "nbconvert_exporter": "python",
   "pygments_lexer": "ipython3",
   "version": "3.10.12"
  },
  "papermill": {
   "default_parameters": {},
   "duration": 13.212891,
   "end_time": "2023-09-02T19:39:53.736709",
   "environment_variables": {},
   "exception": null,
   "input_path": "__notebook__.ipynb",
   "output_path": "__notebook__.ipynb",
   "parameters": {},
   "start_time": "2023-09-02T19:39:40.523818",
   "version": "2.4.0"
  }
 },
 "nbformat": 4,
 "nbformat_minor": 5
}
